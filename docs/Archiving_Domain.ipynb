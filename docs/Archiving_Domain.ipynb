{
  "nbformat": 4,
  "nbformat_minor": 0,
  "metadata": {
    "colab": {
      "name": "Archiving_Domain",
      "provenance": [],
      "authorship_tag": "ABX9TyPplsiV3b53IpAGCTJj/+H/",
      "include_colab_link": true
    },
    "kernelspec": {
      "name": "python3",
      "display_name": "Python 3"
    },
    "language_info": {
      "name": "python"
    }
  },
  "cells": [
    {
      "cell_type": "markdown",
      "metadata": {
        "id": "view-in-github",
        "colab_type": "text"
      },
      "source": [
        "<a href=\"https://colab.research.google.com/github/qsdcfd/Data_Hackthon/blob/TIL/docs/Archiving_Domain.ipynb\" target=\"_parent\"><img src=\"https://colab.research.google.com/assets/colab-badge.svg\" alt=\"Open In Colab\"/></a>"
      ]
    },
    {
      "cell_type": "markdown",
      "source": [
        "## 도메인 지식 구축\n",
        "\n",
        "<br>\n",
        "\n",
        "### 패스트 캠퍼스 기업 분석\n",
        "\n",
        "<br>\n",
        "\n",
        "### CRM 마케팅(고객군 분석)\n",
        "\n",
        "**Points**\n",
        "\n",
        "- 강의를 구매하는 사람이 어떤 그룹인가\n",
        "- 해당 그룹의 특징이 무엇인가\n",
        "\n",
        "<br>\n",
        "\n",
        "**고객 세분화와 군집화**\n",
        "\n",
        "참고 블로그 : https://m.blog.naver.com/bestinall/221231626438\n",
        "\n",
        "<br>\n",
        "\n",
        "### 구매 내역 분석\n",
        "\n",
        "**Point**\n",
        "\n",
        "- 어떤 강의를 많이 구매했나?\n",
        "- 구매자의 구매 패턴 파악\n",
        "- 퍼포먼스 마케팅의 효과가 있었는지 확인\n",
        "- 특정 구룹에게 해당하는 상품의 효과가 있었는지 확인\n",
        "\n",
        "<br>\n",
        "\n",
        "**연관성 분석와 구매 패턴 분석**\n",
        "\n",
        "\n",
        "참고 블로그: https://truman.tistory.com/194\n",
        "\n",
        "참고문헌 : https://www.koreascience.or.kr/article/JAKO201203334699413.pdf\n",
        "\n",
        "https://scienceon.kisti.re.kr/commons/util/originalView.do?cn=CFKO200121138094541&oCn=NPAP08038551&dbt=CFKO&journal=NPRO00288779\n",
        "\n",
        "<br>\n",
        "\n",
        "**퍼포먼스 마케팅**\n",
        "\n",
        "https://kmarketing7.co.kr/blogPost/untitled-42\n"
      ],
      "metadata": {
        "id": "bIYvl6YiWEyW"
      }
    },
    {
      "cell_type": "code",
      "source": [
        ""
      ],
      "metadata": {
        "id": "Z40OjPDAWF3v"
      },
      "execution_count": null,
      "outputs": []
    }
  ]
}