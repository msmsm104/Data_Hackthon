{
  "nbformat": 4,
  "nbformat_minor": 0,
  "metadata": {
    "colab": {
      "name": "Archiving_Hard-Skills",
      "provenance": [],
      "authorship_tag": "ABX9TyNV4ym5LelLUk2Tydzf+EpD",
      "include_colab_link": true
    },
    "kernelspec": {
      "name": "python3",
      "display_name": "Python 3"
    },
    "language_info": {
      "name": "python"
    }
  },
  "cells": [
    {
      "cell_type": "markdown",
      "metadata": {
        "id": "view-in-github",
        "colab_type": "text"
      },
      "source": [
        "<a href=\"https://colab.research.google.com/github/qsdcfd/Data_Hackthon/blob/TIL/docs/Archiving_Hard_Skills.ipynb\" target=\"_parent\"><img src=\"https://colab.research.google.com/assets/colab-badge.svg\" alt=\"Open In Colab\"/></a>"
      ]
    },
    {
      "cell_type": "markdown",
      "source": [
        "### EDA\n",
        "\n",
        "https://jalynne-kim.medium.com/%EB%8D%B0%EC%9D%B4%ED%84%B0%EB%B6%84%EC%84%9D-%EA%B8%B0%EC%B4%88-eda%EC%9D%98-%EA%B0%9C%EB%85%90%EA%B3%BC-%EB%8D%B0%EC%9D%B4%ED%84%B0%EB%B6%84%EC%84%9D-%EC%9E%98-%ED%95%98%EB%8A%94-%EB%B2%95-a3cac2cc5ebc\n",
        "\n",
        "https://eda-ai-lab.tistory.com/13\n",
        "\n",
        "<br>\n",
        "\n",
        "### Clustering\n",
        "\n",
        "https://rfriend.tistory.com/198\n",
        "\n",
        "https://joyfuls.tistory.com/64\n",
        "\n",
        "<br>\n",
        "\n",
        "### Correlation analysis\n",
        "\n",
        "\n",
        "https://bioinformaticsandme.tistory.com/58\n",
        "\n",
        "https://brunch.co.kr/@hae-ra/8"
      ],
      "metadata": {
        "id": "GrAAIsM5Wpjd"
      }
    }
  ]
}